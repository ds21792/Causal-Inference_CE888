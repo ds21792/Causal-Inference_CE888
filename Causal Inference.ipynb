{
 "cells": [
  {
   "cell_type": "code",
   "execution_count": 1,
   "id": "a6a7293f",
   "metadata": {},
   "outputs": [
    {
     "name": "stdout",
     "output_type": "stream",
     "text": [
      "Requirement already satisfied: econml in c:\\users\\duggi\\anaconda3\\lib\\site-packages (0.13.0)\n",
      "Requirement already satisfied: scikit-learn>0.22.0 in c:\\users\\duggi\\anaconda3\\lib\\site-packages (from econml) (1.0.2)\n",
      "Requirement already satisfied: dowhy<0.7 in c:\\users\\duggi\\anaconda3\\lib\\site-packages (from econml) (0.6)\n",
      "Requirement already satisfied: joblib>=0.13.0 in c:\\users\\duggi\\anaconda3\\lib\\site-packages (from econml) (1.0.1)\n",
      "Requirement already satisfied: numpy in c:\\users\\duggi\\anaconda3\\lib\\site-packages (from econml) (1.20.1)\n",
      "Requirement already satisfied: lightgbm in c:\\users\\duggi\\anaconda3\\lib\\site-packages (from econml) (3.3.2)\n",
      "Requirement already satisfied: scipy>1.4.0 in c:\\users\\duggi\\anaconda3\\lib\\site-packages (from econml) (1.8.0)\n",
      "Requirement already satisfied: pandas in c:\\users\\duggi\\anaconda3\\lib\\site-packages (from econml) (1.2.4)\n",
      "Requirement already satisfied: sparse in c:\\users\\duggi\\anaconda3\\lib\\site-packages (from econml) (0.13.0)\n",
      "Requirement already satisfied: shap<0.40.0,>=0.38.1 in c:\\users\\duggi\\anaconda3\\lib\\site-packages (from econml) (0.39.0)\n",
      "Requirement already satisfied: statsmodels>=0.10 in c:\\users\\duggi\\anaconda3\\lib\\site-packages (from econml) (0.13.2)\n",
      "Requirement already satisfied: pydot>=1.4 in c:\\users\\duggi\\anaconda3\\lib\\site-packages (from dowhy<0.7->econml) (1.4.2)\n",
      "Requirement already satisfied: networkx>=2.0 in c:\\users\\duggi\\anaconda3\\lib\\site-packages (from dowhy<0.7->econml) (2.5)\n",
      "Requirement already satisfied: sympy>=1.4 in c:\\users\\duggi\\anaconda3\\lib\\site-packages (from dowhy<0.7->econml) (1.8)\n",
      "Requirement already satisfied: decorator>=4.3.0 in c:\\users\\duggi\\anaconda3\\lib\\site-packages (from networkx>=2.0->dowhy<0.7->econml) (5.0.6)\n",
      "Requirement already satisfied: pytz>=2017.3 in c:\\users\\duggi\\anaconda3\\lib\\site-packages (from pandas->econml) (2021.1)\n",
      "Requirement already satisfied: python-dateutil>=2.7.3 in c:\\users\\duggi\\anaconda3\\lib\\site-packages (from pandas->econml) (2.8.1)\n",
      "Requirement already satisfied: pyparsing>=2.1.4 in c:\\users\\duggi\\anaconda3\\lib\\site-packages (from pydot>=1.4->dowhy<0.7->econml) (2.4.7)\n",
      "Requirement already satisfied: six>=1.5 in c:\\users\\duggi\\anaconda3\\lib\\site-packages (from python-dateutil>=2.7.3->pandas->econml) (1.15.0)\n",
      "Requirement already satisfied: threadpoolctl>=2.0.0 in c:\\users\\duggi\\anaconda3\\lib\\site-packages (from scikit-learn>0.22.0->econml) (2.1.0)\n",
      "Requirement already satisfied: numba in c:\\users\\duggi\\anaconda3\\lib\\site-packages (from shap<0.40.0,>=0.38.1->econml) (0.53.1)\n",
      "Requirement already satisfied: slicer==0.0.7 in c:\\users\\duggi\\anaconda3\\lib\\site-packages (from shap<0.40.0,>=0.38.1->econml) (0.0.7)\n",
      "Requirement already satisfied: cloudpickle in c:\\users\\duggi\\anaconda3\\lib\\site-packages (from shap<0.40.0,>=0.38.1->econml) (1.6.0)\n",
      "Requirement already satisfied: tqdm>4.25.0 in c:\\users\\duggi\\anaconda3\\lib\\site-packages (from shap<0.40.0,>=0.38.1->econml) (4.59.0)\n",
      "Requirement already satisfied: packaging>=21.3 in c:\\users\\duggi\\anaconda3\\lib\\site-packages (from statsmodels>=0.10->econml) (21.3)\n",
      "Requirement already satisfied: patsy>=0.5.2 in c:\\users\\duggi\\anaconda3\\lib\\site-packages (from statsmodels>=0.10->econml) (0.5.2)\n",
      "Requirement already satisfied: mpmath>=0.19 in c:\\users\\duggi\\anaconda3\\lib\\site-packages (from sympy>=1.4->dowhy<0.7->econml) (1.2.1)\n",
      "Requirement already satisfied: wheel in c:\\users\\duggi\\anaconda3\\lib\\site-packages (from lightgbm->econml) (0.36.2)\n",
      "Requirement already satisfied: setuptools in c:\\users\\duggi\\anaconda3\\lib\\site-packages (from numba->shap<0.40.0,>=0.38.1->econml) (52.0.0.post20210125)\n",
      "Requirement already satisfied: llvmlite<0.37,>=0.36.0rc1 in c:\\users\\duggi\\anaconda3\\lib\\site-packages (from numba->shap<0.40.0,>=0.38.1->econml) (0.36.0)\n"
     ]
    }
   ],
   "source": [
    "!pip install econml"
   ]
  },
  {
   "cell_type": "markdown",
   "id": "ac493130",
   "metadata": {},
   "source": [
    "# Task-1"
   ]
  },
  {
   "cell_type": "code",
   "execution_count": 2,
   "id": "96432b08",
   "metadata": {},
   "outputs": [],
   "source": [
    "#Import Necessary Libraries\n",
    "\n",
    "from sklearn.ensemble import RandomForestRegressor, RandomForestClassifier\n",
    "from sklearn.model_selection import train_test_split\n",
    "from sklearn.preprocessing import StandardScaler\n",
    "# from econml.metalearners import TLearner, SLearner, XLearner, DomainAdaptationLearner\n",
    "import numpy as np\n",
    "import pandas as pd\n",
    "import scipy.stats as st\n",
    "import matplotlib.pyplot as plt"
   ]
  },
  {
   "cell_type": "code",
   "execution_count": 3,
   "id": "4e295156",
   "metadata": {},
   "outputs": [],
   "source": [
    "# !pip install scipy"
   ]
  },
  {
   "cell_type": "code",
   "execution_count": 4,
   "id": "28b12edb",
   "metadata": {},
   "outputs": [],
   "source": [
    "#Task-1 : Load, clean, and explore the datasets provided (IHDP and JOBS)\n",
    "data = np.load('ihdp.npz')\n"
   ]
  },
  {
   "cell_type": "code",
   "execution_count": 5,
   "id": "2c1a3178",
   "metadata": {},
   "outputs": [
    {
     "data": {
      "text/plain": [
       "['x', 't', 'yf', 'ycf', 'ite']"
      ]
     },
     "execution_count": 5,
     "metadata": {},
     "output_type": "execute_result"
    }
   ],
   "source": [
    "data.files\n"
   ]
  },
  {
   "cell_type": "code",
   "execution_count": 6,
   "id": "063d5205",
   "metadata": {},
   "outputs": [
    {
     "name": "stdout",
     "output_type": "stream",
     "text": [
      "x: (747, 25)\n",
      "t: (747, 1)\n",
      "yf: (747, 1)\n",
      "ycf: (747, 1)\n",
      "ite: (747, 1)\n"
     ]
    }
   ],
   "source": [
    "for f_data in data.files:\n",
    "    print(f'{f_data}: {data[f_data].shape}')\n",
    "    #print(f'{f_data}:{datajobs[f_data].shape}')"
   ]
  },
  {
   "cell_type": "code",
   "execution_count": 7,
   "id": "26234900",
   "metadata": {},
   "outputs": [],
   "source": [
    "x = data['x'].reshape(-1, 1)\n",
    "t = data['t'].reshape(-1, 1)\n",
    "yf = data['yf'].reshape(-1, 1)\n",
    "ycf = data['ycf'].reshape(-1,1)\n",
    "ite = data['ite'].reshape(-1,1)"
   ]
  },
  {
   "cell_type": "code",
   "execution_count": 8,
   "id": "402f6414",
   "metadata": {},
   "outputs": [
    {
     "data": {
      "image/png": "[encoded data removed]",
      "text/plain": [
       "<Figure size 1152x288 with 5 Axes>"
      ]
     },
     "metadata": {
      "needs_background": "light"
     },
     "output_type": "display_data"
    }
   ],
   "source": [
    "bins=20\n",
    "fig, axes = plt.subplots(1, 5, figsize=(16, 4))\n",
    "axes[0].hist(x, bins=bins)\n",
    "axes[1].hist(t, bins=bins)\n",
    "axes[2].hist(yf, bins=bins)\n",
    "axes[3].hist(ycf, bins=bins)\n",
    "axes[4].hist(ite, bins=bins)\n",
    "plt.show()"
   ]
  },
  {
   "cell_type": "code",
   "execution_count": 9,
   "id": "8a8e13f9",
   "metadata": {},
   "outputs": [
    {
     "name": "stdout",
     "output_type": "stream",
     "text": [
      "X: 0.2532262382864792\n",
      "T: 0.18607764390896922\n",
      "YF: 3.1595375238575967\n",
      "YCF: 5.696106550309938\n",
      "ITE: 4.016066896118338\n"
     ]
    }
   ],
   "source": [
    "#Average Mean Values \n",
    "\n",
    "print('X:',np.mean(x))\n",
    "print('T:',np.mean(t))\n",
    "print('YF:',np.mean(yf))\n",
    "print('YCF:',np.mean(ycf))\n",
    "print('ITE:',np.mean(ite))"
   ]
  },
  {
   "cell_type": "markdown",
   "id": "a9636ff4",
   "metadata": {},
   "source": [
    "# Task-2 "
   ]
  },
  {
   "cell_type": "code",
   "execution_count": 10,
   "id": "148c8556",
   "metadata": {},
   "outputs": [
    {
     "data": {
      "text/html": [
       "<div>\n",
       "<style scoped>\n",
       "    .dataframe tbody tr th:only-of-type {\n",
       "        vertical-align: middle;\n",
       "    }\n",
       "\n",
       "    .dataframe tbody tr th {\n",
       "        vertical-align: top;\n",
       "    }\n",
       "\n",
       "    .dataframe thead th {\n",
       "        text-align: right;\n",
       "    }\n",
       "</style>\n",
       "<table border=\"1\" class=\"dataframe\">\n",
       "  <thead>\n",
       "    <tr style=\"text-align: right;\">\n",
       "      <th></th>\n",
       "      <th>x</th>\n",
       "      <th>y</th>\n",
       "    </tr>\n",
       "  </thead>\n",
       "  <tbody>\n",
       "    <tr>\n",
       "      <th>0</th>\n",
       "      <td>0</td>\n",
       "      <td>1</td>\n",
       "    </tr>\n",
       "    <tr>\n",
       "      <th>1</th>\n",
       "      <td>0</td>\n",
       "      <td>1</td>\n",
       "    </tr>\n",
       "    <tr>\n",
       "      <th>2</th>\n",
       "      <td>1</td>\n",
       "      <td>0</td>\n",
       "    </tr>\n",
       "    <tr>\n",
       "      <th>3</th>\n",
       "      <td>0</td>\n",
       "      <td>1</td>\n",
       "    </tr>\n",
       "    <tr>\n",
       "      <th>4</th>\n",
       "      <td>1</td>\n",
       "      <td>0</td>\n",
       "    </tr>\n",
       "    <tr>\n",
       "      <th>...</th>\n",
       "      <td>...</td>\n",
       "      <td>...</td>\n",
       "    </tr>\n",
       "    <tr>\n",
       "      <th>495</th>\n",
       "      <td>0</td>\n",
       "      <td>1</td>\n",
       "    </tr>\n",
       "    <tr>\n",
       "      <th>496</th>\n",
       "      <td>0</td>\n",
       "      <td>0</td>\n",
       "    </tr>\n",
       "    <tr>\n",
       "      <th>497</th>\n",
       "      <td>1</td>\n",
       "      <td>0</td>\n",
       "    </tr>\n",
       "    <tr>\n",
       "      <th>498</th>\n",
       "      <td>0</td>\n",
       "      <td>0</td>\n",
       "    </tr>\n",
       "    <tr>\n",
       "      <th>499</th>\n",
       "      <td>1</td>\n",
       "      <td>1</td>\n",
       "    </tr>\n",
       "  </tbody>\n",
       "</table>\n",
       "<p>500 rows × 2 columns</p>\n",
       "</div>"
      ],
      "text/plain": [
       "     x  y\n",
       "0    0  1\n",
       "1    0  1\n",
       "2    1  0\n",
       "3    0  1\n",
       "4    1  0\n",
       "..  .. ..\n",
       "495  0  1\n",
       "496  0  0\n",
       "497  1  0\n",
       "498  0  0\n",
       "499  1  1\n",
       "\n",
       "[500 rows x 2 columns]"
      ]
     },
     "execution_count": 10,
     "metadata": {},
     "output_type": "execute_result"
    }
   ],
   "source": [
    "import pandas as pd\n",
    "import numpy as np\n",
    "\n",
    "pz = 0.5\n",
    "pxz = [0.9, 0.1]\n",
    "py_xz = [0.2, 0.4, 0.6, 0.8]\n",
    "z = np.random.binomial(n=1, p=pz, size=500)\n",
    "px = np.choose(z, pxz)\n",
    "\n",
    "x = np.random.binomial(n=1, p=px, size=500)\n",
    "\n",
    "py = np.choose(x+2*z, py_xz)\n",
    "\n",
    "y = np.random.binomial(n=1, p=py, size=500)\n",
    "\n",
    "generated_df = pd.DataFrame({\"x\":x, \"y\":y})\n",
    "\n",
    "generated_df"
   ]
  },
  {
   "cell_type": "code",
   "execution_count": 11,
   "id": "c53d44d8",
   "metadata": {},
   "outputs": [
    {
     "data": {
      "text/plain": [
       "{'estimated_effect': -0.12004992079873272,\n",
       " 'standard_error': 0.08718778379237725}"
      ]
     },
     "execution_count": 11,
     "metadata": {},
     "output_type": "execute_result"
    }
   ],
   "source": [
    "def estimate_uplift(eu):\n",
    "    core = eu[eu.x == 0]\n",
    "    var = eu[eu.x == 1]\n",
    "    delta = var.y.mean() - core.y.mean()\n",
    "    delta_err = 1.96 * np.sqrt(\n",
    "        var.y.var() / var.shape[0] + \n",
    "        core.y.var() / core.shape[0])\n",
    "    return {\"estimated_effect\": delta, \"standard_error\": delta_err}\n",
    "estimate_uplift(generated_df)"
   ]
  },
  {
   "cell_type": "markdown",
   "id": "97fb9145",
   "metadata": {},
   "source": [
    "# Task-3"
   ]
  },
  {
   "cell_type": "code",
   "execution_count": 12,
   "id": "11e3e2eb",
   "metadata": {},
   "outputs": [],
   "source": [
    "#counterfactual outcome metrics\n",
    "\n",
    "import numpy as np\n",
    "import pandas as pd\n",
    "from sklearn.preprocessing import PolynomialFeatures\n",
    "def generated_df_0(n_samples=500, set_X=None, show_data=False):\n",
    "    pz = 0.5\n",
    "    pxz = [0.9, 0.1]\n",
    "    py_xz = [0.2, 0.4, 0.6, 0.8]\n",
    "    z = np.random.binomial(n=1, p=pz, size=n_samples)\n",
    "    if set_X is not None:\n",
    "        assert(len(set_X) == n_samples)\n",
    "        x = set_x\n",
    "    else:\n",
    "        px = np.choose(z, pxz)\n",
    "        x = np.random.binomial(n=1, p=px, size=n_samples)\n",
    "    py = np.choose(x+2*z, py_xz)\n",
    "    y = np.random.binomial(n=1, p=py, size=n_samples)\n",
    "    if show_data:\n",
    "        return pd.DataFrame({\"x\":x, \"y\":y, \"z\":z})\n",
    "    return pd.DataFrame({\"x\":x, \"y\":y})\n"
   ]
  },
  {
   "cell_type": "code",
   "execution_count": 13,
   "id": "11ec79dc",
   "metadata": {},
   "outputs": [
    {
     "name": "stdout",
     "output_type": "stream",
     "text": [
      "{'estimated_effect': 0.22666877570389116, 'standard_error': 0.15434443756157618}\n",
      "{'estimated_effect': 0.2532467532467533, 'standard_error': 0.15973702787400565}\n"
     ]
    }
   ],
   "source": [
    "observed_data = generated_df_0(show_data=True)\n",
    "\n",
    "print(estimate_uplift(observed_data.loc[lambda data: data.z == 0]))\n",
    "\n",
    "print(estimate_uplift(observed_data.loc[lambda data: data.z == 1]))"
   ]
  },
  {
   "cell_type": "code",
   "execution_count": 14,
   "id": "1b534058",
   "metadata": {},
   "outputs": [],
   "source": [
    "def generated_df_1(n_samples=500, set_X=None):\n",
    "   \n",
    "    z = np.random.uniform(size=n_samples)\n",
    "    \n",
    "    if set_X is not None:\n",
    "        assert(len(set_X) == n_samples)\n",
    "        x = set_X\n",
    "    else:\n",
    "        px = np.minimum(np.maximum(z,0.1), 0.9)\n",
    "        x = np.random.binomial(n=1, p=px, size=n_samples)\n",
    "        \n",
    "    y0 = 2 * z\n",
    "    y1 = y0 - 0.5\n",
    "\n",
    "    y = np.where(x == 0, y0, y1) + 0.3 * np.random.normal(size=n_samples)\n",
    "        \n",
    "    return pd.DataFrame({\"x\":x, \"y\":y, \"z\":z})"
   ]
  },
  {
   "cell_type": "code",
   "execution_count": 15,
   "id": "90d0e78c",
   "metadata": {},
   "outputs": [],
   "source": [
    "ob_data_1 = generated_df_1()"
   ]
  },
  {
   "cell_type": "code",
   "execution_count": 16,
   "id": "ef6d153a",
   "metadata": {},
   "outputs": [
    {
     "data": {
      "text/html": [
       "<div>\n",
       "<style scoped>\n",
       "    .dataframe tbody tr th:only-of-type {\n",
       "        vertical-align: middle;\n",
       "    }\n",
       "\n",
       "    .dataframe tbody tr th {\n",
       "        vertical-align: top;\n",
       "    }\n",
       "\n",
       "    .dataframe thead th {\n",
       "        text-align: right;\n",
       "    }\n",
       "</style>\n",
       "<table border=\"1\" class=\"dataframe\">\n",
       "  <thead>\n",
       "    <tr style=\"text-align: right;\">\n",
       "      <th></th>\n",
       "      <th>x</th>\n",
       "      <th>y</th>\n",
       "      <th>z</th>\n",
       "    </tr>\n",
       "  </thead>\n",
       "  <tbody>\n",
       "    <tr>\n",
       "      <th>0</th>\n",
       "      <td>1</td>\n",
       "      <td>1.465384</td>\n",
       "      <td>0.800655</td>\n",
       "    </tr>\n",
       "    <tr>\n",
       "      <th>1</th>\n",
       "      <td>1</td>\n",
       "      <td>0.838709</td>\n",
       "      <td>0.782648</td>\n",
       "    </tr>\n",
       "    <tr>\n",
       "      <th>2</th>\n",
       "      <td>1</td>\n",
       "      <td>0.312669</td>\n",
       "      <td>0.188101</td>\n",
       "    </tr>\n",
       "    <tr>\n",
       "      <th>3</th>\n",
       "      <td>1</td>\n",
       "      <td>0.482656</td>\n",
       "      <td>0.468655</td>\n",
       "    </tr>\n",
       "    <tr>\n",
       "      <th>4</th>\n",
       "      <td>1</td>\n",
       "      <td>0.812026</td>\n",
       "      <td>0.701280</td>\n",
       "    </tr>\n",
       "    <tr>\n",
       "      <th>...</th>\n",
       "      <td>...</td>\n",
       "      <td>...</td>\n",
       "      <td>...</td>\n",
       "    </tr>\n",
       "    <tr>\n",
       "      <th>495</th>\n",
       "      <td>1</td>\n",
       "      <td>1.304602</td>\n",
       "      <td>0.830011</td>\n",
       "    </tr>\n",
       "    <tr>\n",
       "      <th>496</th>\n",
       "      <td>0</td>\n",
       "      <td>0.474494</td>\n",
       "      <td>0.355517</td>\n",
       "    </tr>\n",
       "    <tr>\n",
       "      <th>497</th>\n",
       "      <td>0</td>\n",
       "      <td>-0.277749</td>\n",
       "      <td>0.108776</td>\n",
       "    </tr>\n",
       "    <tr>\n",
       "      <th>498</th>\n",
       "      <td>1</td>\n",
       "      <td>0.905422</td>\n",
       "      <td>0.795766</td>\n",
       "    </tr>\n",
       "    <tr>\n",
       "      <th>499</th>\n",
       "      <td>0</td>\n",
       "      <td>0.231678</td>\n",
       "      <td>0.049168</td>\n",
       "    </tr>\n",
       "  </tbody>\n",
       "</table>\n",
       "<p>500 rows × 3 columns</p>\n",
       "</div>"
      ],
      "text/plain": [
       "     x         y         z\n",
       "0    1  1.465384  0.800655\n",
       "1    1  0.838709  0.782648\n",
       "2    1  0.312669  0.188101\n",
       "3    1  0.482656  0.468655\n",
       "4    1  0.812026  0.701280\n",
       "..  ..       ...       ...\n",
       "495  1  1.304602  0.830011\n",
       "496  0  0.474494  0.355517\n",
       "497  0 -0.277749  0.108776\n",
       "498  1  0.905422  0.795766\n",
       "499  0  0.231678  0.049168\n",
       "\n",
       "[500 rows x 3 columns]"
      ]
     },
     "execution_count": 16,
     "metadata": {},
     "output_type": "execute_result"
    }
   ],
   "source": [
    "ob_data_1"
   ]
  },
  {
   "cell_type": "code",
   "execution_count": 17,
   "id": "5cb3049e",
   "metadata": {},
   "outputs": [
    {
     "data": {
      "image/png": "[encoded data removed]",
      "text/plain": [
       "<Figure size 432x288 with 1 Axes>"
      ]
     },
     "metadata": {
      "needs_background": "light"
     },
     "output_type": "display_data"
    }
   ],
   "source": [
    "#Plotting Whole Data\n",
    "\n",
    "ob_data_1.plot.scatter(x=\"z\", y=\"y\", c=\"x\", cmap=\"autumn\", colorbar=False);\n"
   ]
  },
  {
   "cell_type": "markdown",
   "id": "f844df02",
   "metadata": {},
   "source": [
    "# Task-5(A)"
   ]
  },
  {
   "cell_type": "code",
   "execution_count": 18,
   "id": "7e441487",
   "metadata": {},
   "outputs": [
    {
     "name": "stdout",
     "output_type": "stream",
     "text": [
      "Requirement already satisfied: causalinference in c:\\users\\duggi\\anaconda3\\lib\\site-packages (0.1.3)\n"
     ]
    }
   ],
   "source": [
    "!pip install causalinference"
   ]
  },
  {
   "cell_type": "code",
   "execution_count": 19,
   "id": "c679eada",
   "metadata": {},
   "outputs": [
    {
     "name": "stdout",
     "output_type": "stream",
     "text": [
      "Requirement already satisfied: dowhy in c:\\users\\duggi\\anaconda3\\lib\\site-packages (0.6)\n",
      "Requirement already satisfied: numpy>=1.15 in c:\\users\\duggi\\anaconda3\\lib\\site-packages (from dowhy) (1.20.1)\n",
      "Requirement already satisfied: sympy>=1.4 in c:\\users\\duggi\\anaconda3\\lib\\site-packages (from dowhy) (1.8)\n",
      "Requirement already satisfied: networkx>=2.0 in c:\\users\\duggi\\anaconda3\\lib\\site-packages (from dowhy) (2.5)\n",
      "Requirement already satisfied: pandas>=0.24 in c:\\users\\duggi\\anaconda3\\lib\\site-packages (from dowhy) (1.2.4)\n",
      "Requirement already satisfied: scikit-learn in c:\\users\\duggi\\anaconda3\\lib\\site-packages (from dowhy) (1.0.2)\n",
      "Requirement already satisfied: statsmodels in c:\\users\\duggi\\anaconda3\\lib\\site-packages (from dowhy) (0.13.2)\n",
      "Requirement already satisfied: pydot>=1.4 in c:\\users\\duggi\\anaconda3\\lib\\site-packages (from dowhy) (1.4.2)\n",
      "Requirement already satisfied: scipy in c:\\users\\duggi\\anaconda3\\lib\\site-packages (from dowhy) (1.8.0)\n",
      "Requirement already satisfied: decorator>=4.3.0 in c:\\users\\duggi\\anaconda3\\lib\\site-packages (from networkx>=2.0->dowhy) (5.0.6)\n",
      "Requirement already satisfied: python-dateutil>=2.7.3 in c:\\users\\duggi\\anaconda3\\lib\\site-packages (from pandas>=0.24->dowhy) (2.8.1)\n",
      "Requirement already satisfied: pytz>=2017.3 in c:\\users\\duggi\\anaconda3\\lib\\site-packages (from pandas>=0.24->dowhy) (2021.1)\n",
      "Requirement already satisfied: pyparsing>=2.1.4 in c:\\users\\duggi\\anaconda3\\lib\\site-packages (from pydot>=1.4->dowhy) (2.4.7)\n",
      "Requirement already satisfied: six>=1.5 in c:\\users\\duggi\\anaconda3\\lib\\site-packages (from python-dateutil>=2.7.3->pandas>=0.24->dowhy) (1.15.0)\n",
      "Requirement already satisfied: mpmath>=0.19 in c:\\users\\duggi\\anaconda3\\lib\\site-packages (from sympy>=1.4->dowhy) (1.2.1)\n",
      "Requirement already satisfied: threadpoolctl>=2.0.0 in c:\\users\\duggi\\anaconda3\\lib\\site-packages (from scikit-learn->dowhy) (2.1.0)\n",
      "Requirement already satisfied: joblib>=0.11 in c:\\users\\duggi\\anaconda3\\lib\\site-packages (from scikit-learn->dowhy) (1.0.1)\n",
      "Requirement already satisfied: packaging>=21.3 in c:\\users\\duggi\\anaconda3\\lib\\site-packages (from statsmodels->dowhy) (21.3)\n",
      "Requirement already satisfied: patsy>=0.5.2 in c:\\users\\duggi\\anaconda3\\lib\\site-packages (from statsmodels->dowhy) (0.5.2)\n"
     ]
    }
   ],
   "source": [
    "!pip install dowhy"
   ]
  },
  {
   "cell_type": "code",
   "execution_count": 20,
   "id": "997b769b",
   "metadata": {},
   "outputs": [],
   "source": [
    "import pandas as pd\n",
    "from dowhy import CausalModel\n",
    "import numpy as np\n",
    "\n",
    "df = pd.read_csv(\"https://raw.githubusercontent.com/AMLab-Amsterdam/CEVAE/master/datasets/IHDP/csv/ihdp_npci_1.csv\", header = None)"
   ]
  },
  {
   "cell_type": "code",
   "execution_count": 21,
   "id": "6c8df474",
   "metadata": {},
   "outputs": [
    {
     "data": {
      "text/html": [
       "<div>\n",
       "<style scoped>\n",
       "    .dataframe tbody tr th:only-of-type {\n",
       "        vertical-align: middle;\n",
       "    }\n",
       "\n",
       "    .dataframe tbody tr th {\n",
       "        vertical-align: top;\n",
       "    }\n",
       "\n",
       "    .dataframe thead th {\n",
       "        text-align: right;\n",
       "    }\n",
       "</style>\n",
       "<table border=\"1\" class=\"dataframe\">\n",
       "  <thead>\n",
       "    <tr style=\"text-align: right;\">\n",
       "      <th></th>\n",
       "      <th>treatment</th>\n",
       "      <th>y_factual</th>\n",
       "      <th>y_cfactual</th>\n",
       "      <th>mu0</th>\n",
       "      <th>mu1</th>\n",
       "      <th>x1</th>\n",
       "      <th>x2</th>\n",
       "      <th>x3</th>\n",
       "      <th>x4</th>\n",
       "      <th>x5</th>\n",
       "      <th>...</th>\n",
       "      <th>x16</th>\n",
       "      <th>x17</th>\n",
       "      <th>x18</th>\n",
       "      <th>x19</th>\n",
       "      <th>x20</th>\n",
       "      <th>x21</th>\n",
       "      <th>x22</th>\n",
       "      <th>x23</th>\n",
       "      <th>x24</th>\n",
       "      <th>x25</th>\n",
       "    </tr>\n",
       "  </thead>\n",
       "  <tbody>\n",
       "    <tr>\n",
       "      <th>0</th>\n",
       "      <td>True</td>\n",
       "      <td>5.599916</td>\n",
       "      <td>4.318780</td>\n",
       "      <td>3.268256</td>\n",
       "      <td>6.854457</td>\n",
       "      <td>-0.528603</td>\n",
       "      <td>-0.343455</td>\n",
       "      <td>1.128554</td>\n",
       "      <td>0.161703</td>\n",
       "      <td>-0.316603</td>\n",
       "      <td>...</td>\n",
       "      <td>1</td>\n",
       "      <td>1</td>\n",
       "      <td>1</td>\n",
       "      <td>1</td>\n",
       "      <td>0</td>\n",
       "      <td>0</td>\n",
       "      <td>0</td>\n",
       "      <td>0</td>\n",
       "      <td>0</td>\n",
       "      <td>0</td>\n",
       "    </tr>\n",
       "    <tr>\n",
       "      <th>1</th>\n",
       "      <td>False</td>\n",
       "      <td>6.875856</td>\n",
       "      <td>7.856495</td>\n",
       "      <td>6.636059</td>\n",
       "      <td>7.562718</td>\n",
       "      <td>-1.736945</td>\n",
       "      <td>-1.802002</td>\n",
       "      <td>0.383828</td>\n",
       "      <td>2.244320</td>\n",
       "      <td>-0.629189</td>\n",
       "      <td>...</td>\n",
       "      <td>1</td>\n",
       "      <td>1</td>\n",
       "      <td>1</td>\n",
       "      <td>1</td>\n",
       "      <td>0</td>\n",
       "      <td>0</td>\n",
       "      <td>0</td>\n",
       "      <td>0</td>\n",
       "      <td>0</td>\n",
       "      <td>0</td>\n",
       "    </tr>\n",
       "    <tr>\n",
       "      <th>2</th>\n",
       "      <td>False</td>\n",
       "      <td>2.996273</td>\n",
       "      <td>6.633952</td>\n",
       "      <td>1.570536</td>\n",
       "      <td>6.121617</td>\n",
       "      <td>-0.807451</td>\n",
       "      <td>-0.202946</td>\n",
       "      <td>-0.360898</td>\n",
       "      <td>-0.879606</td>\n",
       "      <td>0.808706</td>\n",
       "      <td>...</td>\n",
       "      <td>1</td>\n",
       "      <td>0</td>\n",
       "      <td>1</td>\n",
       "      <td>1</td>\n",
       "      <td>0</td>\n",
       "      <td>0</td>\n",
       "      <td>0</td>\n",
       "      <td>0</td>\n",
       "      <td>0</td>\n",
       "      <td>0</td>\n",
       "    </tr>\n",
       "    <tr>\n",
       "      <th>3</th>\n",
       "      <td>False</td>\n",
       "      <td>1.366206</td>\n",
       "      <td>5.697239</td>\n",
       "      <td>1.244738</td>\n",
       "      <td>5.889125</td>\n",
       "      <td>0.390083</td>\n",
       "      <td>0.596582</td>\n",
       "      <td>-1.850350</td>\n",
       "      <td>-0.879606</td>\n",
       "      <td>-0.004017</td>\n",
       "      <td>...</td>\n",
       "      <td>1</td>\n",
       "      <td>0</td>\n",
       "      <td>1</td>\n",
       "      <td>1</td>\n",
       "      <td>0</td>\n",
       "      <td>0</td>\n",
       "      <td>0</td>\n",
       "      <td>0</td>\n",
       "      <td>0</td>\n",
       "      <td>0</td>\n",
       "    </tr>\n",
       "    <tr>\n",
       "      <th>4</th>\n",
       "      <td>False</td>\n",
       "      <td>1.963538</td>\n",
       "      <td>6.202582</td>\n",
       "      <td>1.685048</td>\n",
       "      <td>6.191994</td>\n",
       "      <td>-1.045229</td>\n",
       "      <td>-0.602710</td>\n",
       "      <td>0.011465</td>\n",
       "      <td>0.161703</td>\n",
       "      <td>0.683672</td>\n",
       "      <td>...</td>\n",
       "      <td>1</td>\n",
       "      <td>1</td>\n",
       "      <td>1</td>\n",
       "      <td>1</td>\n",
       "      <td>0</td>\n",
       "      <td>0</td>\n",
       "      <td>0</td>\n",
       "      <td>0</td>\n",
       "      <td>0</td>\n",
       "      <td>0</td>\n",
       "    </tr>\n",
       "  </tbody>\n",
       "</table>\n",
       "<p>5 rows × 30 columns</p>\n",
       "</div>"
      ],
      "text/plain": [
       "   treatment  y_factual  y_cfactual       mu0       mu1        x1        x2  \\\n",
       "0       True   5.599916    4.318780  3.268256  6.854457 -0.528603 -0.343455   \n",
       "1      False   6.875856    7.856495  6.636059  7.562718 -1.736945 -1.802002   \n",
       "2      False   2.996273    6.633952  1.570536  6.121617 -0.807451 -0.202946   \n",
       "3      False   1.366206    5.697239  1.244738  5.889125  0.390083  0.596582   \n",
       "4      False   1.963538    6.202582  1.685048  6.191994 -1.045229 -0.602710   \n",
       "\n",
       "         x3        x4        x5  ...  x16  x17  x18  x19  x20  x21  x22  x23  \\\n",
       "0  1.128554  0.161703 -0.316603  ...    1    1    1    1    0    0    0    0   \n",
       "1  0.383828  2.244320 -0.629189  ...    1    1    1    1    0    0    0    0   \n",
       "2 -0.360898 -0.879606  0.808706  ...    1    0    1    1    0    0    0    0   \n",
       "3 -1.850350 -0.879606 -0.004017  ...    1    0    1    1    0    0    0    0   \n",
       "4  0.011465  0.161703  0.683672  ...    1    1    1    1    0    0    0    0   \n",
       "\n",
       "   x24  x25  \n",
       "0    0    0  \n",
       "1    0    0  \n",
       "2    0    0  \n",
       "3    0    0  \n",
       "4    0    0  \n",
       "\n",
       "[5 rows x 30 columns]"
      ]
     },
     "execution_count": 21,
     "metadata": {},
     "output_type": "execute_result"
    }
   ],
   "source": [
    "cols =  [\"treatment\", \"y_factual\", \"y_cfactual\", \"mu0\", \"mu1\" ,]\n",
    "for i in range(1,26):\n",
    "    cols.append(\"x\"+str(i))\n",
    "df.columns = cols\n",
    "df = df.astype({\"treatment\":'bool'}, copy=False)\n",
    "df.head()"
   ]
  },
  {
   "cell_type": "code",
   "execution_count": null,
   "id": "82d1386f",
   "metadata": {},
   "outputs": [],
   "source": [
    "!pip install statsmodels==0.13.2"
   ]
  },
  {
   "cell_type": "code",
   "execution_count": 22,
   "id": "47c20eb3",
   "metadata": {},
   "outputs": [],
   "source": [
    "# Declaration of causal model\n",
    "# from causalinference import CausalModel\n",
    "from dowhy import CausalModel\n",
    "\n",
    "\n",
    "\n",
    "s = \"\"\n",
    "for i in range(1,26):\n",
    "    s += (\"x\"+str(i)+\"+\")\n",
    "\n",
    "\n",
    "causeModel=CausalModel(\n",
    "        data = df,\n",
    "        treatment='treatment',\n",
    "        outcome='y_factual',\n",
    "        common_causes=s.split('+'),\n",
    ")\n",
    "\n",
    "# causeModel.view_model() \n",
    "\n",
    "                  "
   ]
  },
  {
   "cell_type": "code",
   "execution_count": 23,
   "id": "8ec5e314",
   "metadata": {},
   "outputs": [
    {
     "name": "stdout",
     "output_type": "stream",
     "text": [
      "Estimand type: nonparametric-ate\n",
      "\n",
      "### Estimand : 1\n",
      "Estimand name: backdoor\n",
      "Estimand expression:\n",
      "     d                                                                        \n",
      "────────────(Expectation(y_factual|x2,x3,x1,x10,x15,x9,x21,x17,x24,x8,x4,x12,x\n",
      "d[treatment]                                                                  \n",
      "\n",
      "                                                 \n",
      "14,x5,x6,x19,x11,x22,x13,x20,x25,x16,x7,x23,x18))\n",
      "                                                 \n",
      "Estimand assumption 1, Unconfoundedness: If U→{treatment} and U→y_factual then P(y_factual|treatment,x2,x3,x1,x10,x15,x9,x21,x17,x24,x8,x4,x12,x14,x5,x6,x19,x11,x22,x13,x20,x25,x16,x7,x23,x18,U) = P(y_factual|treatment,x2,x3,x1,x10,x15,x9,x21,x17,x24,x8,x4,x12,x14,x5,x6,x19,x11,x22,x13,x20,x25,x16,x7,x23,x18)\n",
      "\n",
      "### Estimand : 2\n",
      "Estimand name: iv\n",
      "No such variable found!\n",
      "\n",
      "### Estimand : 3\n",
      "Estimand name: frontdoor\n",
      "No such variable found!\n",
      "\n"
     ]
    }
   ],
   "source": [
    "estimat= causeModel.identify_effect(proceed_when_unidentifiable=True)\n",
    "print(estimat)"
   ]
  },
  {
   "cell_type": "markdown",
   "id": "c6c40273",
   "metadata": {},
   "source": [
    "# Linear Regression"
   ]
  },
  {
   "cell_type": "code",
   "execution_count": 29,
   "id": "0255aae7",
   "metadata": {},
   "outputs": [
    {
     "name": "stdout",
     "output_type": "stream",
     "text": [
      "*** Causal Estimate ***\n",
      "\n",
      "## Identified estimand\n",
      "Estimand type: nonparametric-ate\n",
      "\n",
      "### Estimand : 1\n",
      "Estimand name: backdoor\n",
      "Estimand expression:\n",
      "     d                                                                        \n",
      "────────────(Expectation(y_factual|x2,x3,x1,x10,x15,x9,x21,x17,x24,x8,x4,x12,x\n",
      "d[treatment]                                                                  \n",
      "\n",
      "                                                 \n",
      "14,x5,x6,x19,x11,x22,x13,x20,x25,x16,x7,x23,x18))\n",
      "                                                 \n",
      "Estimand assumption 1, Unconfoundedness: If U→{treatment} and U→y_factual then P(y_factual|treatment,x2,x3,x1,x10,x15,x9,x21,x17,x24,x8,x4,x12,x14,x5,x6,x19,x11,x22,x13,x20,x25,x16,x7,x23,x18,U) = P(y_factual|treatment,x2,x3,x1,x10,x15,x9,x21,x17,x24,x8,x4,x12,x14,x5,x6,x19,x11,x22,x13,x20,x25,x16,x7,x23,x18)\n",
      "\n",
      "## Realized estimand\n",
      "b: y_factual~treatment+x2+x3+x1+x10+x15+x9+x21+x17+x24+x8+x4+x12+x14+x5+x6+x19+x11+x22+x13+x20+x25+x16+x7+x23+x18\n",
      "Target units: ate\n",
      "\n",
      "## Estimate\n",
      "Mean value: 3.9286717508727165\n",
      "p-value: [1.58915682e-156]\n",
      "\n",
      "Causal Estimate is 3.9286717508727165\n",
      "ATE 4.021121012430832\n"
     ]
    }
   ],
   "source": [
    "from dowhy.causal_estimator import CausalEstimate\n",
    "from dowhy.causal_estimator import CausalEstimator\n",
    "from dowhy.utils.api import parse_state\n",
    "\n",
    "from importlib import import_module\n",
    "import econml\n",
    "\n",
    "est = causeModel.estimate_effect(estimat,\n",
    "        method_name=\"backdoor.linear_regression\", test_significance=True\n",
    ")\n",
    "\n",
    "print(est)\n",
    "\n",
    "print(\"Causal Estimate is \" + str(est.value))\n",
    "data_first = df[df[\"treatment\"]==1]\n",
    "data_z = df[df[\"treatment\"]==0]\n",
    "\n",
    "print(\"ATE\", np.mean(data_first[\"y_factual\"])- np.mean(data_z[\"y_factual\"]))\n"
   ]
  },
  {
   "cell_type": "markdown",
   "id": "fe487906",
   "metadata": {},
   "source": [
    "# Random Forest Regressor"
   ]
  },
  {
   "cell_type": "code",
   "execution_count": 33,
   "id": "fea8d904",
   "metadata": {},
   "outputs": [
    {
     "name": "stderr",
     "output_type": "stream",
     "text": [
      "A column-vector y was passed when a 1d array was expected. Please change the shape of y to (n_samples, ), for example using ravel().\n"
     ]
    },
    {
     "name": "stdout",
     "output_type": "stream",
     "text": [
      "*** Causal Estimate ***\n",
      "\n",
      "## Identified estimand\n",
      "Estimand type: nonparametric-ate\n",
      "\n",
      "### Estimand : 1\n",
      "Estimand name: backdoor\n",
      "Estimand expression:\n",
      "     d                                                                        \n",
      "────────────(Expectation(y_factual|x2,x3,x1,x10,x15,x9,x21,x17,x24,x8,x4,x12,x\n",
      "d[treatment]                                                                  \n",
      "\n",
      "                                                 \n",
      "14,x5,x6,x19,x11,x22,x13,x20,x25,x16,x7,x23,x18))\n",
      "                                                 \n",
      "Estimand assumption 1, Unconfoundedness: If U→{treatment} and U→y_factual then P(y_factual|treatment,x2,x3,x1,x10,x15,x9,x21,x17,x24,x8,x4,x12,x14,x5,x6,x19,x11,x22,x13,x20,x25,x16,x7,x23,x18,U) = P(y_factual|treatment,x2,x3,x1,x10,x15,x9,x21,x17,x24,x8,x4,x12,x14,x5,x6,x19,x11,x22,x13,x20,x25,x16,x7,x23,x18)\n",
      "\n",
      "## Realized estimand\n",
      "b: y_factual~treatment+x2+x3+x1+x10+x15+x9+x21+x17+x24+x8+x4+x12+x14+x5+x6+x19+x11+x22+x13+x20+x25+x16+x7+x23+x18\n",
      "Target units: ate\n",
      "\n",
      "## Estimate\n",
      "Mean value: 3.9239715127629093\n",
      "Effect estimates: [ 3.15577673 -0.06236691  3.79598097  3.66881317  4.84766508  2.59813663\n",
      " -0.42698839  4.51663305  3.61161028  3.25634109  2.63403654  4.77075303\n",
      "  4.99448143  4.73399374  4.70529812  4.3997773   4.45975241  5.05945978\n",
      "  4.47492262  5.12141013  3.93277727  5.44390344  2.83165771  2.61725146\n",
      "  3.82053292  4.87183589  6.54335467  3.96014831  5.73756868  3.91794151\n",
      "  3.00661691  2.86970086  5.88904465  5.20582162  4.66789396  3.76579363\n",
      "  5.25673066  1.51598882  4.78517414  3.99053773  4.39621346  3.80980238\n",
      "  4.36060234  3.51455101  4.26604653  4.57803263  3.19047003  5.12741569\n",
      "  3.99414825  4.28216841  3.66476849  4.05499312 -0.31826889  5.33385259\n",
      "  3.78885147  5.16358372  4.12570798  2.6991261   5.56645119  4.53867023\n",
      "  3.26315572  2.36769073  3.6990778   3.53534436  5.11052857  4.16781542\n",
      "  4.02462635  5.6651778   4.24777418  4.77787595  3.63613729  4.70181564\n",
      "  5.06102083  5.39520956  5.82370222  4.73992476  3.836164    4.38797307\n",
      "  4.91145838  5.28106064  4.63308573  2.69232067  3.38321499  5.6359432\n",
      "  5.58051932  5.47741343  3.76223099  3.55608929  3.93353076  5.79208513\n",
      "  3.23331445  4.51739874  3.57296547  4.74929045  3.15182997  3.1811769\n",
      "  3.54383804  4.74736236  4.26632649  4.43583391  3.0253414   5.43933937\n",
      "  4.07816079  4.88370179  4.69797884  3.2480864   4.72857584  3.5060695\n",
      "  4.25008838  4.38478006  1.28492376  4.49470194  4.17784321  0.40715597\n",
      "  3.7938693   2.17698213  1.93078787  3.87686938  4.5144315   3.06645131\n",
      "  3.52941462  5.16656655  5.51632987  4.66198412  4.8909852   3.21308893\n",
      "  5.24200149  0.56769839  0.67641832  2.21485426  5.12217938  0.3839376\n",
      "  2.43513954  4.47110101  5.05701378  1.76469225  5.08964774  3.99750268\n",
      "  3.80246086  4.90115734  3.86922726  5.29679906  2.46607707  3.41155414\n",
      "  2.30109118  3.89009574  3.46203131  3.39074295  5.50352665  3.7798056\n",
      "  4.27807535  5.58312981  2.95832086  2.33268246  3.58907846  0.34286226\n",
      "  3.98228923  4.86366493  0.31276205  5.27411954  3.46513687  2.54618971\n",
      "  4.19554617  3.69865179  2.67871245  4.09757552  2.14619986  4.04193416\n",
      "  4.28968487  4.9688607   4.3725266   4.52837104  4.69023986  4.80350882\n",
      "  2.46474972  3.69217921  5.02245022  3.39302555  5.42840434  2.52415624\n",
      "  2.75942902  4.93656475  3.85274639  4.1398874  -0.62222042  4.30411075\n",
      "  3.7706111   5.05748112  4.74184161  3.91402643  2.95047219  1.06236844\n",
      "  4.0227996   3.87384749  3.56858847  4.0854802   1.7802013   2.73075855\n",
      "  4.51671609  3.10771739  6.02417187  3.79405604  3.74651309  3.84356192\n",
      "  2.26017064  4.38466143  5.7398139   4.16075053  3.95192906  3.76297556\n",
      "  3.98335244  1.81072172  4.16674168  1.75644816  3.91503734  3.84461871\n",
      "  3.30921458  4.85689787  4.98770868  3.67338747  3.87661351  5.01770378\n",
      "  1.15237606  3.4861008   3.65834855  4.9903755   1.07482041  3.46155824\n",
      "  1.16656514  4.3564329   3.82632274  3.57606696  1.07741264  2.97396642\n",
      "  3.30126322  4.13489285  4.45786615  3.70019034  3.97395264  3.9340126\n",
      "  4.47844939  4.06139818  5.90351577  2.43317668  5.15184166  3.92950719\n",
      "  4.07156743  1.23928476  4.81336677  4.61137463  4.646798    3.96004426\n",
      "  4.26024482  4.78319578  4.33094163  4.33042985  3.70448329  4.66989317\n",
      "  3.88312812  3.70408341  5.08384354  4.81914031  4.89433334  1.78622082\n",
      "  4.14036804  3.86066461  5.03578215  4.56246966  2.78841587  4.43961904\n",
      "  4.3464341   4.96542079  2.21431682  4.34927519  4.21655047  3.86693971\n",
      "  4.54630509  3.53648717  4.24642834  4.7765792   2.26686404  1.81115634\n",
      "  4.34446613  4.92040867  4.04618793  5.20394255  4.18969775 -0.11561884\n",
      "  1.26503265  3.25330697  3.8125578   3.52140066  4.05081065  5.16689716\n",
      "  3.34166777  3.14568197  4.61443956  3.58088441  2.88882707  4.44584044\n",
      "  4.17473873  4.30435972  2.49054491  4.28682855  4.49371082  3.83690742\n",
      "  3.67941095  4.57257825  2.53117453  4.30023892  3.38539348  4.38722559\n",
      "  3.92606958  2.93695009  5.69175816  3.37971932  4.5030456   3.35081774\n",
      "  4.25120706  4.82666784  5.81622875  3.30686703  5.94688875  3.94836594\n",
      "  2.48371954  4.49217594  4.98645761  4.33170229  4.05676297  4.60486463\n",
      "  4.22795701  5.97076962  4.42065794  4.08624456  1.23592319  5.3757123\n",
      "  2.9251788   4.08791918  4.22774736  5.23594206  3.10128885  5.39425443\n",
      "  4.28134668  4.00515792  4.65156688  2.65489073  5.6967672   4.18637631\n",
      "  4.68044524  4.88857097  3.18194942  5.91610965  3.53249048  4.43631178\n",
      "  4.73737954  4.11825812  4.79428503  2.95027636  4.32111313  4.05035408\n",
      "  4.35328237  4.33227508  4.25319994  4.38944195  3.85646102  2.54997433\n",
      "  4.81833214  6.24307868  4.14283419  4.18947771  4.39144621  4.30679238\n",
      "  4.05483738  4.75073377  4.73963602  2.93060145  3.60384156  4.25970597\n",
      "  4.02772368  3.34365988  5.2784063   4.65933452  4.52696647  2.57506407\n",
      "  2.00022879  4.50839009  3.89945216  3.59763208  2.63732532  5.50263015\n",
      "  4.59614677  4.56251576  5.41775879  4.04164719  3.92000046  4.20560083\n",
      "  3.80411549  2.84910593 -0.99720564  4.76544591  4.1271761   4.14385055\n",
      "  4.92116438  3.1951684   4.83704362  5.36714784  3.22939356  3.11983309\n",
      "  5.01417509  3.58328904  3.72337749  4.49948893  4.329693    2.96056904\n",
      "  3.93762626  4.95742061  4.31204131  5.30477698  3.76590004  5.69592296\n",
      "  4.13810672  3.78091868  5.04235918  4.21340841  3.26515201  4.28090859\n",
      "  4.74775721  1.84499208  4.23373587  2.31863527  3.16576986  4.44034482\n",
      "  4.49652391  3.27892319  4.68762551  4.41728143  4.59950515  4.58250703\n",
      "  5.18964387  4.07688166  5.66829997  4.54836666  4.14382359  4.09060401\n",
      "  3.81502833  4.86116287 -1.02723037  4.79775502  4.65680958  3.95366111\n",
      "  4.1698213   3.8019147   2.15459614  3.52104363  4.09251691  4.51595567\n",
      "  4.68255595  3.24876905  4.62159573  4.01923746  4.06858811  4.44186755\n",
      "  4.52902287  5.37278161  4.35847523  3.77598085  1.01057242  4.66632505\n",
      "  2.68712391  5.0088512   3.06188811  4.35399923  4.78261129  4.04687393\n",
      "  2.96749188  4.30151797  4.33704942  3.90006808  3.72558797  3.13728414\n",
      "  4.14541218  3.56225412  4.78544936  4.75253229  5.02389957  3.46934273\n",
      "  4.52003159  3.81078552  4.14821849  1.19640346  2.87534815  4.62925843\n",
      "  5.53520009  4.28752472 -0.15444981  4.17993042  4.86827379  5.54506352\n",
      "  4.57786352  3.67597061  2.66731246  1.41997786  4.26343099  4.08694163\n",
      "  2.75462235  4.36041084  2.97576627  4.40662711  4.87747732  3.55509684\n",
      "  4.80955078  3.5737906   4.59910159  3.75362575  3.95297136  3.95382015\n",
      "  4.02696156  2.65641816  3.10966937  3.27370064  5.20356368  3.00629843\n",
      "  4.76583127  3.16709618  0.32491581  5.6657585   4.20842679  4.32914324\n",
      "  4.24670738  4.13665328  3.52926421  4.27395241  3.49425626  4.06355124\n",
      "  3.73351373  2.93794658  4.73781238  6.24467804  3.30449302  3.67590803\n",
      "  3.39172533  6.33086075  3.16920427  5.91707253  3.14498311  3.81690274\n",
      "  2.12808235  4.26929105  2.70386007  5.04769449  6.04887458  6.2768161\n",
      "  4.99946596  3.63877555  3.98128543  2.89833999  2.02006873  3.03505473\n",
      "  4.3280763   2.1580572   1.41718953  4.54183202  5.2435697   4.41531164\n",
      "  5.50124626  4.59170433  4.97463453  3.09915449  4.43822672  4.65788226\n",
      "  4.85059514  5.07312562  3.78318258  3.52835292  6.74815836  4.21874294\n",
      "  3.16978906 -1.96383376  4.89315845  3.91553661  4.04508177  5.05087398\n",
      "  4.86855943  4.12787394  3.1238801   3.50115208  2.97805663  4.47982003\n",
      "  3.74797386  4.82242816  3.79655949  4.09704372  1.02105391  4.46802652\n",
      "  2.0346813   6.30937553  3.51538031  4.2147375   4.05989338  0.07642507\n",
      "  5.29640508  3.9745556   4.21013745  5.2506715   3.02632521  1.98296853\n",
      "  4.36947427  5.59354603  5.40016286  5.27869729  3.23465501  4.04583384\n",
      "  0.04646482  5.94024149  3.37893924  2.86857888  5.22747998  2.15965249\n",
      "  3.98960849  4.44739166  5.47292709  4.15597725  2.13547581  3.78550797\n",
      "  5.18692126  2.93360034  3.24382363  4.96972953  4.48598129  1.2511714\n",
      "  6.27262031  4.43604142  1.71654607  4.11663486  4.19722747  6.19326064\n",
      "  4.06540902  2.35675269  4.074774    4.58243454  3.84231932  4.25161663\n",
      "  4.62914299  4.12032573  6.05621613  5.27743272  4.50629335  4.08768759\n",
      "  3.22696842  4.3043024   2.9970764   4.38151822  4.50297767  4.38733748\n",
      "  3.34984321  4.77890587 -1.15154392  3.92953503  4.41002767  5.73717351\n",
      "  4.49749895  4.77558495  5.53350053  3.60683574  4.55944376  4.79791335\n",
      "  4.73196675  4.69394929  4.0045671   4.92718475  4.26808742  4.37568778\n",
      "  3.80127372  0.4097723   2.64598132  3.7760861   4.82932975  4.53943956\n",
      "  4.00677647  2.63347588  3.13712319 -0.01636629  4.38214651  4.10522789\n",
      "  4.3154858   5.80848922  3.9380009   2.63429097  4.60022266  3.56110919\n",
      "  4.65836934  1.49650065  3.77622691  4.96190725  4.85393666  4.49085539\n",
      "  6.37840015  3.18201953  5.22968365  5.18597617  0.96367074  4.20638927\n",
      "  3.77165813  3.02818028  4.93384843  4.47272356  4.81164252  3.74940199\n",
      "  3.83855574  3.49912822  4.55510356  4.31359803  3.34296789  4.03205321\n",
      "  3.06741336  2.27485302  3.22474509  2.6676983   3.94022979  4.98108549\n",
      "  3.75880899  3.58024072  3.08791628  3.86371494  5.6753983   3.83050497\n",
      "  4.38116876  5.01950129  5.01459223  4.20612531  3.83153651  3.94673607\n",
      "  3.90899308 -0.24927714  5.16905178  2.48097926  5.68235511  2.61980731\n",
      "  4.48456922  3.54471403  4.96966403  2.73066812  2.5020935   1.29568301\n",
      "  4.20806405  4.48211707  3.80085212]\n",
      "\n"
     ]
    },
    {
     "name": "stderr",
     "output_type": "stream",
     "text": [
      "Function get_feature_names is deprecated; get_feature_names is deprecated in 1.0 and will be removed in 1.2. Please use get_feature_names_out instead.\n"
     ]
    }
   ],
   "source": [
    "identified_est_exp = causeModel.identify_effect(proceed_when_unidentifiable=True)\n",
    "\n",
    "from sklearn.ensemble import RandomForestRegressor\n",
    "metalearner_est = causeModel.estimate_effect(identified_est_exp, method_name=\"backdoor.econml.metalearners.TLearner\",\n",
    "confidence_intervals=False,\n",
    "method_params={\n",
    "     \"init_params\":{'models': RandomForestRegressor()},\n",
    "     \"fit_params\":{}\n",
    "              })\n",
    "print(metalearner_est)"
   ]
  },
  {
   "cell_type": "code",
   "execution_count": 34,
   "id": "d391832e",
   "metadata": {},
   "outputs": [
    {
     "data": {
      "text/plain": [
       "(array([  2.,   6.,  13.,  20.,  30.,  99., 208., 261.,  88.,  20.]),\n",
       " array([-1.96383376, -1.09263455, -0.22143534,  0.64976388,  1.52096309,\n",
       "         2.3921623 ,  3.26336151,  4.13456073,  5.00575994,  5.87695915,\n",
       "         6.74815836]),\n",
       " <BarContainer object of 10 artists>)"
      ]
     },
     "execution_count": 34,
     "metadata": {},
     "output_type": "execute_result"
    },
    {
     "data": {
      "image/png": "[encoded data removed]",
      "text/plain": [
       "<Figure size 432x288 with 1 Axes>"
      ]
     },
     "metadata": {
      "needs_background": "light"
     },
     "output_type": "display_data"
    }
   ],
   "source": [
    "import matplotlib.pyplot as plt\n",
    "plt.hist(metalearner_est.cate_estimates)"
   ]
  },
  {
   "cell_type": "code",
   "execution_count": null,
   "id": "96d9c170",
   "metadata": {},
   "outputs": [],
   "source": []
  },
  {
   "cell_type": "code",
   "execution_count": null,
   "id": "70f37492",
   "metadata": {},
   "outputs": [],
   "source": []
  }
 ],
 "metadata": {
  "kernelspec": {
   "display_name": "Python 3",
   "language": "python",
   "name": "python3"
  },
  "language_info": {
   "codemirror_mode": {
    "name": "ipython",
    "version": 3
   },
   "file_extension": ".py",
   "mimetype": "text/x-python",
   "name": "python",
   "nbconvert_exporter": "python",
   "pygments_lexer": "ipython3",
   "version": "3.8.8"
  }
 },
 "nbformat": 4,
 "nbformat_minor": 5
}
